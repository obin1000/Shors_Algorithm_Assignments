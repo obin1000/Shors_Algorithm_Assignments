{
 "cells": [
  {
   "cell_type": "markdown",
   "metadata": {},
   "source": [
    "# Quantum Computing Advanced - Assignment 2\n",
    "\n",
    "Welcome to the second assignment of the Quantum Computing Advanced course! For this assignment we will use Qiskit, a quantum computing framework developed by IBM."
   ]
  },
  {
   "cell_type": "markdown",
   "metadata": {},
   "source": [
    "## Qiskit environment\n",
    "\n",
    "I assume you are familiar with Qiskit. Tutorials on how Qiskit works can be found in the official [Qiskit tutorials repository](https://github.com/Qiskit/qiskit-tutorials). The tutorials you might find useful in general are [Getting started with Qiskit](https://github.com/Qiskit/qiskit-tutorials/blob/master/qiskit/basics/getting_started_with_qiskit.ipynb) and [Summary of quantum operations](https://github.com/Qiskit/qiskit-tutorials/blob/master/qiskit/terra/summary_of_quantum_operations.ipynb). Besides from that you might want to consult the [Qiskit documentation](https://qiskit.org/documentation/) for some advanced details."
   ]
  },
  {
   "cell_type": "code",
   "execution_count": 1,
   "metadata": {
    "pycharm": {
     "is_executing": false
    }
   },
   "outputs": [],
   "source": [
    "from qiskit import QuantumCircuit, QuantumRegister, ClassicalRegister\n",
    "from qiskit import execute\n",
    "from qiskit import Aer\n",
    "from qiskit.providers.aer import StatevectorSimulator, QasmSimulator\n",
    "from qiskit.tools.visualization import plot_histogram, plot_state_city\n",
    "\n",
    "import scipy as sp\n",
    "import math\n",
    "import itertools\n",
    "import os\n",
    "import secrets\n",
    "\n",
    "# Defining the simulator you could use for this assignment\n",
    "as_simulator = Aer.get_backend('qasm_simulator')"
   ]
  },
  {
   "cell_type": "markdown",
   "metadata": {},
   "source": [
    "As mentioned during the lecture, the idea of this assignment is you to prepare a `possible` assignment for next year's students. Assume that the students will have the same knowledge that you had when the lecture began. You are required to elaborate `10` questions in total (obviously, you have to deliver the solution of your assignment).\n",
    "\n",
    "Remember `all` the problems (not related to the content of the courses) that you faced in every single assignment you have solved while studying at HvA and try to learn from them. How would be the perfect assignment for a HvA HBO-ICT student?\n",
    "\n",
    "The lecture included some RSA background that you could also include in the future assignment. It could be a great idea to prepare an assignment with all the steps of the process: key generation, message encryption (keep the original message for yourself and let's see if the student is able to decrypt it), hacking RSA with Shor's algorithm and message decryption.\n",
    "\n",
    "If you decide to ask that type of question, you could use the following set of auxiliary routines. As mentioned during the lecture, you should understand them, add some description/documentation about these functions and finally add meaningful comments in the code. I juts copy and past them, so part of your work is to identify which is which.\n",
    "\n",
    "A brief comment from the original assignment: `The routine genPandQ generates the primes p and q. The product p*q should be larger than nb-bits. The message should be less that p*q otherwise part of the message is lost by the modulo-operation.`\n",
    "\n",
    "If you do not want to include RSA question in your assignment, then you can skip this part and go directly to the next cell."
   ]
  },
  {
   "cell_type": "code",
   "execution_count": 2,
   "metadata": {
    "pycharm": {
     "is_executing": false
    }
   },
   "outputs": [],
   "source": [
    "\n",
    "\n",
    "def nbits(n):\n",
    "    \"\"\"\n",
    "    Return the number of bits to represent `n`.\n",
    "    :param n: int to represent in bits.\n",
    "    :return: Int of how many bits are needed for given n.\n",
    "    \"\"\"\n",
    "    return math.floor(math.log(n, 2))\n",
    "\n",
    "def isprime(n):\n",
    "    \"\"\"\n",
    "    Check if given is a prime number.\n",
    "    :param n: an int.\n",
    "    :return: Bool based on whether n is a prime number.\n",
    "    \"\"\"\n",
    "    return len([ d for d in range(2, math.ceil(math.sqrt(n))+1) if n % d == 0]) == 0\n",
    "\n",
    "def b2i(b):\n",
    "    \"\"\"\n",
    "    Convert bytes to an int.\n",
    "    :param b: Bytes.\n",
    "    :return: int value of the bytes.\n",
    "    \"\"\"\n",
    "    return int.from_bytes(b, 'little')\n",
    "\n",
    "def i2b(i, n=1):\n",
    "    \"\"\"\n",
    "    Convert int to Bytes.\n",
    "    :param i: an int.\n",
    "    :param n: ?\n",
    "    :return: List of Bytes to represent the int.\n",
    "    \"\"\"\n",
    "    return i.to_bytes(n, 'little')\n",
    "\n",
    "def modinv(a, m):\n",
    "    \"\"\"\n",
    "    \n",
    "    :param a: \n",
    "    :param m: \n",
    "    :return: \n",
    "    \"\"\"\n",
    "    def egcd(a, b):\n",
    "        \"\"\"\n",
    "        \n",
    "        :param a: \n",
    "        :param b: \n",
    "        :return: \n",
    "        \"\"\"\n",
    "        if a == 0:\n",
    "            return b, 0, 1\n",
    "        else:\n",
    "            g, y, x = egcd(b % a, a)\n",
    "            return g, x - (b // a) * y, y\n",
    "\n",
    "    g, x, y = egcd(a, m)\n",
    "    if g != 1:\n",
    "        raise Exception('modinv: failure')\n",
    "    else:\n",
    "        return x % m\n",
    "\n",
    "def genPandQ(nb):\n",
    "    \"\"\"\n",
    "    Generate to prime numbers who product is less than `nb`-bits. \n",
    "    :param nb: Max product of the two prime numbers (N).\n",
    "    :return: Two prime numbers (p an q)\n",
    "    \"\"\"\n",
    "    lp = 2**((nb+2) // 2)\n",
    "    while True:\n",
    "        # To skip the small primes\n",
    "        p = lp // 2 + secrets.randbelow(lp // 2)\n",
    "        if not isprime(p):\n",
    "            continue\n",
    "\n",
    "        lq = 2**((nb+2) - nbits(p))\n",
    "        while True:\n",
    "            # To skip the small primes\n",
    "            q = lq // 2 + secrets.randbelow(lq // 2)\n",
    "            if not isprime(q): continue\n",
    "            break\n",
    "        break\n",
    "    # Is n large enough to hold nb-bits\n",
    "    if nbits(p*q) <= nb:\n",
    "        print(p*q, p, q, nbits(p*q), nbits(p), nbits(q))\n",
    "    assert nbits(p*q) > nb\n",
    "    return p, q"
   ]
  },
  {
   "cell_type": "markdown",
   "metadata": {},
   "source": [
    "If you plan to include only questions directly related to Shor's algorithm, then you should start from this cell.\n",
    "\n",
    "As mentioned during the lecture, I found a couple of papers with some implementations of the Shor' algorithm. If you want to use them for your assignment, here is the list:\n",
    "\n",
    "[Realization of a scalable Shor algorithm](https://science.sciencemag.org/content/351/6277/1068)  \n",
    "[Experimental Demonstration of a Compiled Version of Shor’s Algorithm\n",
    "with Quantum Entanglement](https://journals.aps.org/prl/pdf/10.1103/PhysRevLett.99.250505?casa_token=Ru-cllycgjMAAAAA%3Adowo43wJjc5gKFZ8pfHMXY2-L5B1knqgFl8zgZepYQQwrUVYdpjek-r_MM-CRTznnPgtuSCjyi0Z8WX4)  \n",
    "[Simplified Factoring Algorithms for Validating Small-Scale Quantum Information Processing Technologies](https://arxiv.org/abs/1310.6446)  \n",
    "\n",
    "The first paper is the one used in the slides of Leon and Frans (Quantum Computing Advanced from last year and Quantum Security from last block). The other two contain the circuits for the modular exponentiation that I included in my slides.\n",
    "\n",
    "The following functions are used to: extract the counts from the simulation, compute the period of the function, compute the greatest common divisor (obtain `p` and `q`). As mentioned during the lecture, you should understand them, add some description/documentation about these functions and finally add meaningful comments in the code. I juts copy and past them, so part of your work is to identify which is which."
   ]
  },
  {
   "cell_type": "code",
   "execution_count": 3,
   "metadata": {
    "pycharm": {
     "is_executing": false
    }
   },
   "outputs": [
    {
     "traceback": [
      "\u001b[0;31m---------------------------------------------------------------------------\u001b[0m",
      "\u001b[0;31mNameError\u001b[0m                                 Traceback (most recent call last)",
      "\u001b[0;32m<ipython-input-3-0fb8900f1788>\u001b[0m in \u001b[0;36m<module>\u001b[0;34m\u001b[0m\n\u001b[1;32m     21\u001b[0m \u001b[0;34m\u001b[0m\u001b[0m\n\u001b[1;32m     22\u001b[0m \u001b[0mps\u001b[0m \u001b[0;34m=\u001b[0m \u001b[0mset\u001b[0m\u001b[0;34m(\u001b[0m\u001b[0;34m)\u001b[0m\u001b[0;34m\u001b[0m\u001b[0;34m\u001b[0m\u001b[0m\n\u001b[0;32m---> 23\u001b[0;31m \u001b[0mmean\u001b[0m \u001b[0;34m=\u001b[0m \u001b[0msum\u001b[0m\u001b[0;34m(\u001b[0m\u001b[0mcounts\u001b[0m\u001b[0;34m.\u001b[0m\u001b[0mvalues\u001b[0m\u001b[0;34m(\u001b[0m\u001b[0;34m)\u001b[0m\u001b[0;34m)\u001b[0m\u001b[0;34m/\u001b[0m\u001b[0mlen\u001b[0m\u001b[0;34m(\u001b[0m\u001b[0mcounts\u001b[0m\u001b[0;34m.\u001b[0m\u001b[0mvalues\u001b[0m\u001b[0;34m(\u001b[0m\u001b[0;34m)\u001b[0m\u001b[0;34m)\u001b[0m\u001b[0;34m\u001b[0m\u001b[0;34m\u001b[0m\u001b[0m\n\u001b[0m\u001b[1;32m     24\u001b[0m \u001b[0;34m\u001b[0m\u001b[0m\n\u001b[1;32m     25\u001b[0m \u001b[0;32mfor\u001b[0m \u001b[0mvec\u001b[0m \u001b[0;32min\u001b[0m \u001b[0msorted\u001b[0m\u001b[0;34m(\u001b[0m\u001b[0mcounts\u001b[0m\u001b[0;34m.\u001b[0m\u001b[0mkeys\u001b[0m\u001b[0;34m(\u001b[0m\u001b[0;34m)\u001b[0m\u001b[0;34m)\u001b[0m\u001b[0;34m:\u001b[0m\u001b[0;34m\u001b[0m\u001b[0;34m\u001b[0m\u001b[0m\n",
      "\u001b[0;31mNameError\u001b[0m: name 'counts' is not defined"
     ],
     "ename": "NameError",
     "evalue": "name 'counts' is not defined",
     "output_type": "error"
    }
   ],
   "source": [
    "def cf(n, d):\n",
    "    \"\"\"\n",
    "    \n",
    "    :param n: \n",
    "    :param d: \n",
    "    :return: \n",
    "    \"\"\"\n",
    "    if d == 0:\n",
    "        return []\n",
    "    q = n // d\n",
    "    r = n % d\n",
    "    return [q] + cf(d, r)\n",
    "\n",
    "def cf2r(seq):\n",
    "    \"\"\"\n",
    "    \n",
    "    :param seq: \n",
    "    :return: \n",
    "    \"\"\"\n",
    "    num, den = 1, 0\n",
    "    for u in reversed(seq):\n",
    "        num, den = den + num*u, num\n",
    "    return num, den\n",
    "\n",
    "def per(n, d):\n",
    "    \"\"\"\n",
    "    \n",
    "    :param n: \n",
    "    :param d: \n",
    "    :return: \n",
    "    \"\"\"\n",
    "    _cf = cf(n, d)\n",
    "    ps = []\n",
    "    for i in range(1, len(_cf)+1):\n",
    "        dn = cf2r(_cf[:i])\n",
    "        ps.append(('{}/{}'.format(dn[0], dn[1]), dn[1]))\n",
    "    return ps\n",
    "\n",
    "ps = set()\n",
    "mean = sum(counts.values())/len(counts.values())\n",
    "\n",
    "for vec in sorted(counts.keys()):\n",
    "    x = int(vec, 2)\n",
    "    if counts[vec] < mean: continue\n",
    "    _ps = per(x, a**(4))\n",
    "    ps.update([ nd[1] for nd in _ps ])\n",
    "print('ps={}'.format(sorted(ps)))\n",
    "\n",
    "ps = [ p for p in ps if p > 1 and p % 2 == 0 and a**p % N == 1 ]\n",
    "print('ps={}'.format(sorted(ps)))\n",
    "\n",
    "for p in sorted(ps):\n",
    "    f1 = math.gcd(a**(p//2)-1, N)\n",
    "    f2 = math.gcd(a**(p//2)+1, N)\n",
    "    if f1 == 1 or f2 == 1: continue\n",
    "    print('a=', a)\n",
    "    print('p=', p)\n",
    "    print('e= {} # gcd({}-1, {})'.format(f1, a**(p//2), N))\n",
    "    print('d= {} # gcd({}+1, {})'.format(f2, a**(p//2), N))\n",
    "    print()\n",
    "    "
   ]
  },
  {
   "cell_type": "markdown",
   "source": [
    "## Assignment 1\n",
    "\n",
    "First some questions about RSA. To setup RSA to crack.\n",
    "\n",
    "RSA Key generation."
   ],
   "metadata": {
    "collapsed": false,
    "pycharm": {
     "name": "#%% md\n"
    }
   }
  },
  {
   "cell_type": "code",
   "execution_count": null,
   "outputs": [],
   "source": [
    "# Answer"
   ],
   "metadata": {
    "collapsed": false,
    "pycharm": {
     "name": "#%%\n",
     "is_executing": false
    }
   }
  },
  {
   "cell_type": "markdown",
   "source": [
    "## Assignment 2\n",
    "\n",
    "RSA message encryption."
   ],
   "metadata": {
    "collapsed": false
   }
  },
  {
   "cell_type": "code",
   "execution_count": null,
   "outputs": [],
   "source": [
    "# Answer"
   ],
   "metadata": {
    "collapsed": false,
    "pycharm": {
     "name": "#%%\n",
     "is_executing": false
    }
   }
  },
  {
   "cell_type": "markdown",
   "source": [
    "## Assignment 3\n",
    "\n",
    "RSA message decryption."
   ],
   "metadata": {
    "collapsed": false
   }
  },
  {
   "cell_type": "code",
   "execution_count": null,
   "outputs": [],
   "source": [
    "# Answer"
   ],
   "metadata": {
    "collapsed": false,
    "pycharm": {
     "name": "#%%\n",
     "is_executing": false
    }
   }
  },
  {
   "cell_type": "markdown",
   "source": [
    "## Assignment 4\n",
    "How to crack:\n",
    "    Public key (e, N)\n",
    "    • Factor N into p and q:\n",
    "    N = p × q\n",
    "    • Compute Φ:\n",
    "    Φ = (p − 1) × (q − 1)\n",
    "    • Obtain d\n",
    "    d = Inverse of e (mod Φ)"
   ],
   "metadata": {
    "collapsed": false
   }
  },
  {
   "cell_type": "code",
   "execution_count": null,
   "outputs": [],
   "source": [
    "# Answer"
   ],
   "metadata": {
    "collapsed": false,
    "pycharm": {
     "name": "#%%\n",
     "is_executing": false
    }
   }
  },
  {
   "cell_type": "markdown",
   "source": [
    "## Assignment 5"
   ],
   "metadata": {
    "collapsed": false
   }
  },
  {
   "cell_type": "code",
   "execution_count": null,
   "outputs": [],
   "source": [
    "# Answer"
   ],
   "metadata": {
    "collapsed": false,
    "pycharm": {
     "name": "#%%\n",
     "is_executing": false
    }
   }
  },
  {
   "cell_type": "markdown",
   "source": [
    "## Assignment 6"
   ],
   "metadata": {
    "collapsed": false
   }
  },
  {
   "cell_type": "code",
   "execution_count": null,
   "outputs": [],
   "source": [
    "# Answer"
   ],
   "metadata": {
    "collapsed": false,
    "pycharm": {
     "name": "#%%\n",
     "is_executing": false
    }
   }
  },
  {
   "cell_type": "markdown",
   "source": [
    "## Assignment 7"
   ],
   "metadata": {
    "collapsed": false
   }
  },
  {
   "cell_type": "code",
   "execution_count": null,
   "outputs": [],
   "source": [
    "# Answer"
   ],
   "metadata": {
    "collapsed": false,
    "pycharm": {
     "name": "#%%\n",
     "is_executing": false
    }
   }
  },
  {
   "cell_type": "markdown",
   "source": [
    "## Assignment 8"
   ],
   "metadata": {
    "collapsed": false
   }
  },
  {
   "cell_type": "code",
   "execution_count": null,
   "outputs": [],
   "source": [
    "# Answer"
   ],
   "metadata": {
    "collapsed": false,
    "pycharm": {
     "name": "#%%\n",
     "is_executing": false
    }
   }
  },
  {
   "cell_type": "markdown",
   "source": [
    "## Assignment 9"
   ],
   "metadata": {
    "collapsed": false
   }
  },
  {
   "cell_type": "code",
   "execution_count": null,
   "outputs": [],
   "source": [
    "# Answer"
   ],
   "metadata": {
    "collapsed": false,
    "pycharm": {
     "name": "#%%\n",
     "is_executing": false
    }
   }
  },
  {
   "cell_type": "markdown",
   "source": [
    "## Assignment 10"
   ],
   "metadata": {
    "collapsed": false
   }
  },
  {
   "cell_type": "code",
   "execution_count": null,
   "outputs": [],
   "source": [
    "# Answer\n"
   ],
   "metadata": {
    "collapsed": false,
    "pycharm": {
     "name": "#%%\n",
     "is_executing": false
    }
   }
  }
 ],
 "metadata": {
  "kernelspec": {
   "name": "pycharm-cac0e5b1",
   "language": "python",
   "display_name": "PyCharm (QuTip)"
  },
  "language_info": {
   "codemirror_mode": {
    "name": "ipython",
    "version": 3
   },
   "file_extension": ".py",
   "mimetype": "text/x-python",
   "name": "python",
   "nbconvert_exporter": "python",
   "pygments_lexer": "ipython3",
   "version": "3.6.8"
  },
  "pycharm": {
   "stem_cell": {
    "cell_type": "raw",
    "source": [],
    "metadata": {
     "collapsed": false
    }
   }
  }
 },
 "nbformat": 4,
 "nbformat_minor": 2
}